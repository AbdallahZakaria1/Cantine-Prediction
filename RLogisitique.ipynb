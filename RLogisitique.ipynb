{
 "cells": [
  {
   "cell_type": "code",
   "execution_count": null,
   "metadata": {},
   "outputs": [],
   "source": [
    "# Créer un dataset réalisable.\n",
    "# ID DE L'ELEVE , Est-t-il venu à la cantine (un jour choisi), Présence de Crudités / Fruits Crus, Présence de Légumes verts / Fruits cuits, Présence de Féculents / Légumes secs, Présence de Charcuteries / Préparations patissières, Présences de Garnitures Frites / Produits reconstitués, Présence de Viandes / Volailles / poissons / Oeufs, Présences de Fromages / Laitages, Présence de Dessert / Pâtisseries.\n",
    "# Grâce au dataset au dessus savoir ce qu'il aime ou pas.\n",
    "# Entrée : Ce qu'il y a aujourd'hui et prédire si cette eleve viendra ou non.\n",
    "# Oui si : Il y a au moins ... présence de ce qu'il aime\n",
    "# Non si : Il n'y a pas au moins ... présence de ce qu'il n'aime pas"
   ]
  }
 ],
 "metadata": {
  "language_info": {
   "name": "python"
  },
  "orig_nbformat": 4
 },
 "nbformat": 4,
 "nbformat_minor": 2
}
