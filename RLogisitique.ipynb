{
 "cells": [
  {
   "cell_type": "code",
   "execution_count": null,
   "metadata": {},
   "outputs": [],
   "source": [
    "# Créer un dataset réalisable.\n",
    "# ID DE L'ELEVE , Est-t-il venu à la cantine (un jour choisi), Présence de Crudités / Fruits Crus, Présence de Légumes verts / Fruits cuits, Présence de Féculents / Légumes secs, Présence de Charcuteries / Préparations patissières, Présences de Garnitures Frites / Produits reconstitués, Présence de Viandes / Volailles / poissons / Oeufs, Présences de Fromages / Laitages, Présence de Dessert / Pâtisseries."
   ]
  },
  {
   "cell_type": "code",
   "execution_count": 21,
   "metadata": {},
   "outputs": [],
   "source": [
    "import openpyxl\n",
    "\n",
    "# Créer un nouveau classeur Excel\n",
    "wb = openpyxl.Workbook()\n",
    "days = [\"Lundi\", \"Mardi\", \"Mercredi\", \"Jeudi\", \"Vendredi\"]\n",
    "for day in days:\n",
    "    for week in range(1,42):\n",
    "        sheet_name = day + \" - Semaine \" + str(week)\n",
    "        sheet = wb.create_sheet(sheet_name)\n",
    "        sheet[\"A1\"] = \"ID de l'élève\"\n",
    "        sheet[\"B1\"] = \"Est-il venu à la cantine?\"\n",
    "        sheet[\"C1\"] = \"Présence de Crudités / Fruits Crus\"\n",
    "        sheet[\"D1\"] = \"Présence de Légumes verts / Fruits cuits\"\n",
    "        sheet[\"E1\"] = \"Présence de Féculents / Légumes secs\"\n",
    "        sheet[\"F1\"] = \"Présence de Charcuteries / Préparations pâtissières\"\n",
    "        sheet[\"G1\"] = \"Présence de Garnitures Frites / Produits reconstitués\"\n",
    "        sheet[\"H1\"] = \"Présence de Viandes / Volailles / Poissons / Œufs\"\n",
    "        sheet[\"I1\"] = \"Présence de Fromages / Laitages\"\n",
    "        sheet[\"J1\"] = \"Présence de Dessert / Pâtisseries\"\n",
    "wb.save(\"donnees_cantine.xlsx\")\n"
   ]
  }
 ],
 "metadata": {
  "kernelspec": {
   "display_name": "Python 3",
   "language": "python",
   "name": "python3"
  },
  "language_info": {
   "codemirror_mode": {
    "name": "ipython",
    "version": 3
   },
   "file_extension": ".py",
   "mimetype": "text/x-python",
   "name": "python",
   "nbconvert_exporter": "python",
   "pygments_lexer": "ipython3",
   "version": "3.11.2"
  },
  "orig_nbformat": 4
 },
 "nbformat": 4,
 "nbformat_minor": 2
}
